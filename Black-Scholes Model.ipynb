{
 "cells": [
  {
   "cell_type": "markdown",
   "id": "6c6ec35e",
   "metadata": {},
   "source": [
    "# <center>Black Scholes Merton model</center>"
   ]
  },
  {
   "cell_type": "markdown",
   "id": "c7368bda",
   "metadata": {},
   "source": [
    "Developed in 1973 by Fischer Black, Robert Merton and Myron Scholes, the Black-Scholes model is used to calculate the theoretical price or, in other words, the fair price of European options (options that can only be exercised at maturity T).\n",
    "  \n",
    "The theoretical price of a call option, which gives the right but not the obligation to buy the underlying asset by a certain date T for a certain price K, is characterized by its payoff :\n",
    "\n",
    "$$\\text{payoff = }(S_T-K)_+= max (S_T-K,0)$$\n",
    "\n",
    "and is given by : \n",
    "\n",
    "$$C_0=S_0.N(d_1)-K.\\exp{(-rT)}.N(d_2)$$\n",
    "\n",
    "The theoretical price of a put option, which gives the right but not the obligation to sell the underlying asset by a certain date T for a certain price K, is characterized by its payoff :\n",
    "\n",
    "$$\\text{payoff = }(K-S_T)_+= max (K-S_T,0)$$\n",
    "\n",
    "and is given by : \n",
    "\n",
    "$$P_0=-S_0.N(-d_1)+K.\\exp{(-rT)}.N(-d_2)$$\n",
    "\n",
    "\n",
    "d1 and d2 are defined as :\n",
    "\n",
    "$$d_1=\\frac{\\ln{(\\frac{S_0}{K})}+(r+\\frac{\\sigma^2}{2})T}{\\sigma \\sqrt{T}}$$\n",
    "\n",
    "$$d_2=\\frac{\\ln{(\\frac{S_0}{K})}+(r-\\frac{\\sigma^2}{2})T}{\\sigma \\sqrt{T}}=d_1-\\sigma \\sqrt{T}$$\n",
    "\n",
    "where:  \n",
    "\n",
    "$S_t$ : stock price at time t  \n",
    "K : strike price  \n",
    "T : time to expiration (in years)  \n",
    "r : risk-free interest rate  \n",
    "$\\sigma$ : volatility  \n",
    "N(x) : cumulative distribution function of the standard normal   distribution\n",
    "\n",
    "The price of a put option can also be expressed in terms of a call option, the underlying asset and the strike K discounted over the period.\n",
    "\n",
    "$$\\text{Put-Call Parity : }C_t -P_t = S_t -K.\\exp{(-rT)}$$\n"
   ]
  },
  {
   "cell_type": "markdown",
   "id": "02fe7456",
   "metadata": {},
   "source": [
    "**Assumptions :**  \n",
    "This model is based on the following assumptions:   \n",
    "\n",
    "-No arbitrage opportunities (no way to make a profit without risk)   \n",
    "-The price of the underlying asset follows a geometric Brownian motion   \n",
    "-No transaction costs    \n",
    "-Risk-free interest rate, known in advance and constant  \n",
    "-Volatility of the share price known in advance and constant   \n",
    "-The underlying asset is a continuous and perfectly divisible (for example, one can buy 1/100th of a share)    \n",
    "-The underlying asset does not pay dividends    \n",
    "-The option is European, it can only be exercised at expiration\n",
    "\n",
    "**Criticisms :**  \n",
    "These assumptions are not necessarily true in the real world, and the model may not always accurately reflect the true price of an option. \n",
    "\n",
    "First, the model assumes that dividends, volatility and risk-free rates remain constant over the life of the option, which does not reflect the actual market. In practice, volatility depends on the strike price and the maturity.  \n",
    "In addition, not taking into account taxes and commissions can also lead to valuations that deviate from the actual results. \n",
    "\n",
    "However, it is a useful tool for approximating the fair price of an option and for understanding the factors that affect the price of an option."
   ]
  },
  {
   "cell_type": "code",
   "execution_count": 7,
   "id": "5da88e8a",
   "metadata": {},
   "outputs": [
    {
     "name": "stdout",
     "output_type": "stream",
     "text": [
      "Call price :  10.82925211880901\n",
      "Put price :  6.903423993381125\n"
     ]
    }
   ],
   "source": [
    "import scipy.stats as st\n",
    "\n",
    "def blackScholes(S, K, T, r, sigma, option):\n",
    "    d1 = (np.log(S / K) + (r + 0.5 * sigma ** 2) * T) / (sigma * np.sqrt(T))\n",
    "    d2 = d1 - sigma * np.sqrt(T)\n",
    "    \n",
    "    if option == \"call\":\n",
    "        price = S * st.norm.cdf(d1) - K * np.exp(-r * T) * st.norm.cdf(d2)\n",
    "    elif option == \"put\":\n",
    "        price = K * np.exp(-r * T) * st.norm.cdf(-d2) - S * st.norm.cdf(-d1)\n",
    "    \n",
    "    return price\n",
    "\n",
    "# main\n",
    "S = 100  # stock price\n",
    "K = 101  # strike price\n",
    "T = 5  # time to expiration (in years)\n",
    "r = 0.01  # risk-free interest rate\n",
    "sigma = 0.1  # volatility\n",
    "\n",
    "callPrice = blackScholes(S, K, T, r, sigma, \"call\")\n",
    "putPrice = blackScholes(S, K, T, r, sigma, \"put\")\n",
    "\n",
    "print(\"Call price : \",callPrice)\n",
    "print(\"Put price : \",putPrice)\n"
   ]
  }
 ],
 "metadata": {
  "kernelspec": {
   "display_name": "Python 3 (ipykernel)",
   "language": "python",
   "name": "python3"
  },
  "language_info": {
   "codemirror_mode": {
    "name": "ipython",
    "version": 3
   },
   "file_extension": ".py",
   "mimetype": "text/x-python",
   "name": "python",
   "nbconvert_exporter": "python",
   "pygments_lexer": "ipython3",
   "version": "3.9.7"
  }
 },
 "nbformat": 4,
 "nbformat_minor": 5
}
